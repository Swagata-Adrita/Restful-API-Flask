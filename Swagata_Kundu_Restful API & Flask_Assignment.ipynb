{
 "cells": [
  {
   "cell_type": "markdown",
   "id": "ae901dc8",
   "metadata": {},
   "source": [
    "# Assignment of Restful API & Flask by Swagata Kundu\n",
    "\n",
    "## Theory Questions:"
   ]
  },
  {
   "cell_type": "markdown",
   "id": "1c96edee",
   "metadata": {},
   "source": [
    "### 1.  What is a RESTful API?\n",
    "A RESTful API (Representational State Transfer API) is a web service that follows REST principles, allowing interaction with web-based resources using standard HTTP methods.\n"
   ]
  },
  {
   "cell_type": "markdown",
   "id": "adaa1e7f",
   "metadata": {},
   "source": [
    "### 2.  Explain the concept of API specification\n",
    "An API specification defines how an API should behave, including endpoints, request/response formats, authentication methods, and error handling.\n"
   ]
  },
  {
   "cell_type": "markdown",
   "id": "e5752286",
   "metadata": {},
   "source": [
    "### 3.  What is Flask, and why is it popular for building APIs?\n",
    "Flask is a lightweight Python web framework that is widely used for building APIs due to its simplicity, flexibility, and extensive ecosystem of extensions.\n"
   ]
  },
  {
   "cell_type": "markdown",
   "id": "37872422",
   "metadata": {},
   "source": [
    "### 4.  What is routing in Flask?\n",
    "Routing in Flask maps URL paths to functions, defining how requests to specific URLs should be handled.\n"
   ]
  },
  {
   "cell_type": "markdown",
   "id": "e0d7995f",
   "metadata": {},
   "source": [
    "### 5.  How do you create a simple Flask application?\n",
    "\n",
    "\n",
    "from flask import Flask\n",
    "\n",
    "app = Flask(__name__)\n",
    "\n",
    "@app.route('/')\n",
    "def home():\n",
    "    return 'Hello, Flask!'\n",
    "\n",
    "if __name__ == '__main__':\n",
    "    app.run(debug=True)\n",
    "```"
   ]
  },
  {
   "cell_type": "markdown",
   "id": "218f7021",
   "metadata": {},
   "source": [
    "### 6.  What are HTTP methods used in RESTful APIs?\n",
    "- GET: Retrieve data\n",
    "- POST: Submit data\n",
    "- PUT: Update data\n",
    "- DELETE: Remove data"
   ]
  },
  {
   "cell_type": "markdown",
   "id": "aec8f9e5",
   "metadata": {},
   "source": [
    "### 7.  What is the purpose of the @app.route() decorator in Flask?\n",
    "It binds a function to a URL route, defining how requests to that route should be handled.\n"
   ]
  },
  {
   "cell_type": "markdown",
   "id": "fbbdc755",
   "metadata": {},
   "source": [
    "### 8.  What is the difference between GET and POST HTTP methods?\n",
    "- GET retrieves data without modifying it.\n",
    "- POST sends data to create or update resources on the server.\n"
   ]
  },
  {
   "cell_type": "markdown",
   "id": "7600bbd9",
   "metadata": {},
   "source": [
    "### 9.  How do you handle errors in Flask APIs?\n",
    "```python\n",
    "from flask import jsonify\n",
    "\n",
    "@app.errorhandler(404)\n",
    "def not_found(error):\n",
    "    return jsonify({'error': 'Not Found'}), 404\n",
    "```"
   ]
  },
  {
   "cell_type": "markdown",
   "id": "27535e98",
   "metadata": {},
   "source": [
    "### 10.  How do you connect Flask to a SQL database?\n",
    "Using Flask-SQLAlchemy:\n",
    "```python\n",
    "from flask_sqlalchemy import SQLAlchemy\n",
    "app.config['SQLALCHEMY_DATABASE_URI'] = 'sqlite:///database.db'\n",
    "db = SQLAlchemy(app)\n",
    "```"
   ]
  },
  {
   "cell_type": "markdown",
   "id": "9203d3b0",
   "metadata": {},
   "source": [
    "### 11.  What is the role of Flask-SQLAlchemy?\n",
    "It simplifies database interactions by integrating SQLAlchemy with Flask.\n"
   ]
  },
  {
   "cell_type": "markdown",
   "id": "9278f0e0",
   "metadata": {},
   "source": [
    "### 12.  What are Flask blueprints, and how are they useful?\n",
    "Blueprints allow structuring a Flask app into modules, making it easier to manage large applications.\n"
   ]
  },
  {
   "cell_type": "markdown",
   "id": "f90d4cc7",
   "metadata": {},
   "source": [
    "### 13.  What is the purpose of Flask's request object?\n",
    "It provides access to HTTP request data, such as headers, form data, and JSON payloads.\n"
   ]
  },
  {
   "cell_type": "markdown",
   "id": "50ff9e66",
   "metadata": {},
   "source": [
    "### 14.  How do you create a RESTful API endpoint using Flask?\n",
    "```python\n",
    "@app.route('/api/data', methods=['GET'])\n",
    "def get_data():\n",
    "    return jsonify({'message': 'Hello, API'})\n",
    "```"
   ]
  },
  {
   "cell_type": "markdown",
   "id": "dbeafc81",
   "metadata": {},
   "source": [
    "### 15.  What is the purpose of Flask's jsonify() function?\n",
    "It converts Python dictionaries to JSON responses.\n"
   ]
  },
  {
   "cell_type": "markdown",
   "id": "a5d878ba",
   "metadata": {},
   "source": [
    "### 16.  Explain Flask’s url_for() function\n",
    "It generates dynamic URLs for Flask routes.\n",
    "```python\n",
    "url_for('home')"
   ]
  },
  {
   "cell_type": "markdown",
   "id": "32b66cea",
   "metadata": {},
   "source": [
    "### 17.  How does Flask handle static files (CSS, JavaScript, etc.)?\n",
    "Flask serves static files from the `static/` folder.\n",
    "```html\n",
    "<link rel=\"stylesheet\" href=\"{{ url_for('static', filename='style.css') }}\">\n",
    "```"
   ]
  },
  {
   "cell_type": "markdown",
   "id": "bb8efbbb",
   "metadata": {},
   "source": [
    "### 18. What is an API specification, and how does it help in building a Flask API?\n",
    "\n",
    "   - An API specification is a structured document that defines an API’s endpoints, request/response formats, authentication, and error handling. It helps in building a Flask API by:\n",
    "\n",
    "   - Defining Endpoints Clearly – Lists API routes, methods (GET, POST, etc.), and expected inputs/outputs.\n",
    "\n",
    "- Ensuring Consistency – Standardizes data formats and response structures.\n",
    "\n",
    "    -Automating Documentation – Tools like Swagger (OpenAPI) generate interactive API docs.\n",
    "\n",
    "    -Facilitating Collaboration – Acts as a contract between frontend and backend teams.\n",
    "\n",
    "    -Improving Testing & Mocking – Helps create test cases and mock servers for API validation."
   ]
  },
  {
   "cell_type": "markdown",
   "id": "7b547d6b",
   "metadata": {},
   "source": [
    "### 19. What are HTTP status codes, and why are they important in a Flask API?\n",
    "They indicate the result of an HTTP request (e.g., 200 for success, 404 for not found).\n"
   ]
  },
  {
   "cell_type": "markdown",
   "id": "ff0793b0",
   "metadata": {},
   "source": [
    "### 20.  How do you handle POST requests in Flask?\n",
    "```python\n",
    "@app.route('/submit', methods=['POST'])\n",
    "def submit():\n",
    "    data = request.json\n",
    "    return jsonify({'received': data})\n",
    "```\n"
   ]
  },
  {
   "cell_type": "markdown",
   "id": "6cee11a1",
   "metadata": {},
   "source": [
    "### 21.  How would you secure a Flask API?\n",
    "- Use authentication (JWT, OAuth)\n",
    "- Enable HTTPS\n",
    "- Validate and sanitize input"
   ]
  },
  {
   "cell_type": "markdown",
   "id": "94463a7d",
   "metadata": {},
   "source": [
    "### 22.  What is the significance of the Flask-RESTful extension?\n",
    "It simplifies the creation of RESTful APIs by providing structured class-based views."
   ]
  },
  {
   "cell_type": "markdown",
   "id": "5f026b5e",
   "metadata": {},
   "source": [
    "### 23.  What is the role of Flask’s session object?\n",
    "It stores user session data across requests.\n",
    "```python\n",
    "session['user'] = 'Swagata'\n"
   ]
  },
  {
   "cell_type": "markdown",
   "id": "dd9f4d78",
   "metadata": {},
   "source": [
    "\n",
    "## Practical Questions:"
   ]
  },
  {
   "cell_type": "markdown",
   "id": "06684ed7",
   "metadata": {},
   "source": [
    "### 1. How do you create a basic Flask application?"
   ]
  },
  {
   "cell_type": "code",
   "execution_count": 2,
   "id": "d478bc07",
   "metadata": {},
   "outputs": [
    {
     "name": "stdout",
     "output_type": "stream",
     "text": [
      "Requirement already satisfied: Flask in /home/swagata/anaconda3/envs/brains/lib/python3.7/site-packages (2.2.5)\r\n",
      "Requirement already satisfied: Werkzeug>=2.2.2 in /home/swagata/anaconda3/envs/brains/lib/python3.7/site-packages (from Flask) (2.2.3)\r\n",
      "Requirement already satisfied: Jinja2>=3.0 in /home/swagata/anaconda3/envs/brains/lib/python3.7/site-packages (from Flask) (3.1.2)\r\n",
      "Requirement already satisfied: itsdangerous>=2.0 in /home/swagata/anaconda3/envs/brains/lib/python3.7/site-packages (from Flask) (2.1.2)\r\n",
      "Requirement already satisfied: click>=8.0 in /home/swagata/anaconda3/envs/brains/lib/python3.7/site-packages (from Flask) (8.0.4)\r\n",
      "Requirement already satisfied: importlib-metadata>=3.6.0 in /home/swagata/anaconda3/envs/brains/lib/python3.7/site-packages (from Flask) (4.11.3)\r\n",
      "Requirement already satisfied: zipp>=0.5 in /home/swagata/anaconda3/envs/brains/lib/python3.7/site-packages (from importlib-metadata>=3.6.0->Flask) (3.11.0)\r\n",
      "Requirement already satisfied: typing-extensions>=3.6.4 in /home/swagata/anaconda3/envs/brains/lib/python3.7/site-packages (from importlib-metadata>=3.6.0->Flask) (4.7.1)\r\n",
      "Requirement already satisfied: MarkupSafe>=2.0 in /home/swagata/anaconda3/envs/brains/lib/python3.7/site-packages (from Jinja2>=3.0->Flask) (2.1.1)\r\n"
     ]
    }
   ],
   "source": [
    "!pip install Flask"
   ]
  },
  {
   "cell_type": "code",
   "execution_count": 3,
   "id": "4c23685a",
   "metadata": {
    "scrolled": true
   },
   "outputs": [
    {
     "name": "stdout",
     "output_type": "stream",
     "text": [
      " * Serving Flask app '__main__'\n",
      " * Debug mode: on\n"
     ]
    },
    {
     "name": "stderr",
     "output_type": "stream",
     "text": [
      "WARNING: This is a development server. Do not use it in a production deployment. Use a production WSGI server instead.\n",
      " * Running on http://127.0.0.1:5000\n",
      "Press CTRL+C to quit\n",
      " * Restarting with watchdog (inotify)\n",
      "Traceback (most recent call last):\n",
      "  File \"/home/swagata/anaconda3/envs/brains/lib/python3.7/site-packages/ipykernel_launcher.py\", line 17, in <module>\n",
      "    app.launch_new_instance()\n",
      "  File \"/home/swagata/anaconda3/envs/brains/lib/python3.7/site-packages/traitlets/config/application.py\", line 991, in launch_instance\n",
      "    app.initialize(argv)\n",
      "  File \"/home/swagata/anaconda3/envs/brains/lib/python3.7/site-packages/traitlets/config/application.py\", line 113, in inner\n",
      "    return method(app, *args, **kwargs)\n",
      "  File \"/home/swagata/anaconda3/envs/brains/lib/python3.7/site-packages/ipykernel/kernelapp.py\", line 666, in initialize\n",
      "    self.init_sockets()\n",
      "  File \"/home/swagata/anaconda3/envs/brains/lib/python3.7/site-packages/ipykernel/kernelapp.py\", line 307, in init_sockets\n",
      "    self.shell_port = self._bind_socket(self.shell_socket, self.shell_port)\n",
      "  File \"/home/swagata/anaconda3/envs/brains/lib/python3.7/site-packages/ipykernel/kernelapp.py\", line 244, in _bind_socket\n",
      "    return self._try_bind_socket(s, port)\n",
      "  File \"/home/swagata/anaconda3/envs/brains/lib/python3.7/site-packages/ipykernel/kernelapp.py\", line 220, in _try_bind_socket\n",
      "    s.bind(\"tcp://%s:%i\" % (self.ip, port))\n",
      "  File \"/home/swagata/anaconda3/envs/brains/lib/python3.7/site-packages/zmq/sugar/socket.py\", line 229, in bind\n",
      "    super().bind(addr)\n",
      "  File \"zmq/backend/cython/socket.pyx\", line 562, in zmq.backend.cython.socket.Socket.bind\n",
      "  File \"zmq/backend/cython/checkrc.pxd\", line 28, in zmq.backend.cython.checkrc._check_rc\n",
      "zmq.error.ZMQError: Address already in use\n"
     ]
    },
    {
     "ename": "SystemExit",
     "evalue": "1",
     "output_type": "error",
     "traceback": [
      "An exception has occurred, use %tb to see the full traceback.\n",
      "\u001b[0;31mSystemExit\u001b[0m\u001b[0;31m:\u001b[0m 1\n"
     ]
    },
    {
     "name": "stderr",
     "output_type": "stream",
     "text": [
      "/home/swagata/anaconda3/envs/brains/lib/python3.7/site-packages/IPython/core/interactiveshell.py:3465: UserWarning: To exit: use 'exit', 'quit', or Ctrl-D.\n",
      "  warn(\"To exit: use 'exit', 'quit', or Ctrl-D.\", stacklevel=1)\n"
     ]
    }
   ],
   "source": [
    "from flask import Flask\n",
    "\n",
    "app = Flask(__name__)\n",
    "\n",
    "@app.route('/')\n",
    "def home():\n",
    "    return \"Hello, Flask!\"\n",
    "\n",
    "if __name__ == '__main__':\n",
    "    app.run(debug=True)"
   ]
  },
  {
   "cell_type": "markdown",
   "id": "ea72bd37",
   "metadata": {},
   "source": [
    "### 2. How do you serve static files like images or CSS in Flask?"
   ]
  },
  {
   "cell_type": "code",
   "execution_count": 4,
   "id": "0e686109",
   "metadata": {},
   "outputs": [
    {
     "ename": "SyntaxError",
     "evalue": "invalid syntax (388811796.py, line 1)",
     "output_type": "error",
     "traceback": [
      "\u001b[0;36m  File \u001b[0;32m\"/tmp/ipykernel_7262/388811796.py\"\u001b[0;36m, line \u001b[0;32m1\u001b[0m\n\u001b[0;31m    <!DOCTYPE html>\u001b[0m\n\u001b[0m    ^\u001b[0m\n\u001b[0;31mSyntaxError\u001b[0m\u001b[0;31m:\u001b[0m invalid syntax\n"
     ]
    }
   ],
   "source": [
    "<!DOCTYPE html>\n",
    "<html>\n",
    "<head>\n",
    "    <title>Flask Static Files</title>\n",
    "    <link rel=\"stylesheet\" href=\"{{ url_for('static', filename='style.css') }}\">\n",
    "</head>\n",
    "<body>\n",
    "    <h1>Welcome to Flask</h1>\n",
    "    <img src=\"{{ url_for('static', filename='images/logo.png') }}\" alt=\"Logo\">\n",
    "    <script src=\"{{ url_for('static', filename='script.js') }}\"></script>\n",
    "</body>\n",
    "</html>"
   ]
  },
  {
   "cell_type": "code",
   "execution_count": 5,
   "id": "0da6cfe1",
   "metadata": {},
   "outputs": [
    {
     "name": "stdout",
     "output_type": "stream",
     "text": [
      " * Serving Flask app '__main__'\n",
      " * Debug mode: on\n"
     ]
    },
    {
     "name": "stderr",
     "output_type": "stream",
     "text": [
      "WARNING: This is a development server. Do not use it in a production deployment. Use a production WSGI server instead.\n",
      " * Running on http://127.0.0.1:5000\n",
      "Press CTRL+C to quit\n",
      " * Restarting with watchdog (inotify)\n",
      "Traceback (most recent call last):\n",
      "  File \"/home/swagata/anaconda3/envs/brains/lib/python3.7/site-packages/ipykernel_launcher.py\", line 17, in <module>\n",
      "    app.launch_new_instance()\n",
      "  File \"/home/swagata/anaconda3/envs/brains/lib/python3.7/site-packages/traitlets/config/application.py\", line 991, in launch_instance\n",
      "    app.initialize(argv)\n",
      "  File \"/home/swagata/anaconda3/envs/brains/lib/python3.7/site-packages/traitlets/config/application.py\", line 113, in inner\n",
      "    return method(app, *args, **kwargs)\n",
      "  File \"/home/swagata/anaconda3/envs/brains/lib/python3.7/site-packages/ipykernel/kernelapp.py\", line 666, in initialize\n",
      "    self.init_sockets()\n",
      "  File \"/home/swagata/anaconda3/envs/brains/lib/python3.7/site-packages/ipykernel/kernelapp.py\", line 307, in init_sockets\n",
      "    self.shell_port = self._bind_socket(self.shell_socket, self.shell_port)\n",
      "  File \"/home/swagata/anaconda3/envs/brains/lib/python3.7/site-packages/ipykernel/kernelapp.py\", line 244, in _bind_socket\n",
      "    return self._try_bind_socket(s, port)\n",
      "  File \"/home/swagata/anaconda3/envs/brains/lib/python3.7/site-packages/ipykernel/kernelapp.py\", line 220, in _try_bind_socket\n",
      "    s.bind(\"tcp://%s:%i\" % (self.ip, port))\n",
      "  File \"/home/swagata/anaconda3/envs/brains/lib/python3.7/site-packages/zmq/sugar/socket.py\", line 229, in bind\n",
      "    super().bind(addr)\n",
      "  File \"zmq/backend/cython/socket.pyx\", line 562, in zmq.backend.cython.socket.Socket.bind\n",
      "  File \"zmq/backend/cython/checkrc.pxd\", line 28, in zmq.backend.cython.checkrc._check_rc\n",
      "zmq.error.ZMQError: Address already in use\n"
     ]
    },
    {
     "ename": "SystemExit",
     "evalue": "1",
     "output_type": "error",
     "traceback": [
      "An exception has occurred, use %tb to see the full traceback.\n",
      "\u001b[0;31mSystemExit\u001b[0m\u001b[0;31m:\u001b[0m 1\n"
     ]
    }
   ],
   "source": [
    "from flask import Flask, render_template\n",
    "\n",
    "app = Flask(__name__)\n",
    "\n",
    "@app.route('/')\n",
    "def home():\n",
    "    return render_template('index.html')\n",
    "\n",
    "if __name__ == '__main__':\n",
    "    app.run(debug=True)"
   ]
  },
  {
   "cell_type": "markdown",
   "id": "bf5a6043",
   "metadata": {},
   "source": [
    "### 3. How do you define different routes with different HTTP methods in Flask?"
   ]
  },
  {
   "cell_type": "code",
   "execution_count": 6,
   "id": "7c4c8753",
   "metadata": {},
   "outputs": [
    {
     "name": "stdout",
     "output_type": "stream",
     "text": [
      " * Serving Flask app '__main__'\n",
      " * Debug mode: on\n"
     ]
    },
    {
     "name": "stderr",
     "output_type": "stream",
     "text": [
      "WARNING: This is a development server. Do not use it in a production deployment. Use a production WSGI server instead.\n",
      " * Running on http://127.0.0.1:5000\n",
      "Press CTRL+C to quit\n",
      " * Restarting with watchdog (inotify)\n",
      "Traceback (most recent call last):\n",
      "  File \"/home/swagata/anaconda3/envs/brains/lib/python3.7/site-packages/ipykernel_launcher.py\", line 17, in <module>\n",
      "    app.launch_new_instance()\n",
      "  File \"/home/swagata/anaconda3/envs/brains/lib/python3.7/site-packages/traitlets/config/application.py\", line 991, in launch_instance\n",
      "    app.initialize(argv)\n",
      "  File \"/home/swagata/anaconda3/envs/brains/lib/python3.7/site-packages/traitlets/config/application.py\", line 113, in inner\n",
      "    return method(app, *args, **kwargs)\n",
      "  File \"/home/swagata/anaconda3/envs/brains/lib/python3.7/site-packages/ipykernel/kernelapp.py\", line 666, in initialize\n",
      "    self.init_sockets()\n",
      "  File \"/home/swagata/anaconda3/envs/brains/lib/python3.7/site-packages/ipykernel/kernelapp.py\", line 307, in init_sockets\n",
      "    self.shell_port = self._bind_socket(self.shell_socket, self.shell_port)\n",
      "  File \"/home/swagata/anaconda3/envs/brains/lib/python3.7/site-packages/ipykernel/kernelapp.py\", line 244, in _bind_socket\n",
      "    return self._try_bind_socket(s, port)\n",
      "  File \"/home/swagata/anaconda3/envs/brains/lib/python3.7/site-packages/ipykernel/kernelapp.py\", line 220, in _try_bind_socket\n",
      "    s.bind(\"tcp://%s:%i\" % (self.ip, port))\n",
      "  File \"/home/swagata/anaconda3/envs/brains/lib/python3.7/site-packages/zmq/sugar/socket.py\", line 229, in bind\n",
      "    super().bind(addr)\n",
      "  File \"zmq/backend/cython/socket.pyx\", line 562, in zmq.backend.cython.socket.Socket.bind\n",
      "  File \"zmq/backend/cython/checkrc.pxd\", line 28, in zmq.backend.cython.checkrc._check_rc\n",
      "zmq.error.ZMQError: Address already in use\n"
     ]
    },
    {
     "ename": "SystemExit",
     "evalue": "1",
     "output_type": "error",
     "traceback": [
      "An exception has occurred, use %tb to see the full traceback.\n",
      "\u001b[0;31mSystemExit\u001b[0m\u001b[0;31m:\u001b[0m 1\n"
     ]
    }
   ],
   "source": [
    "from flask import Flask, request\n",
    "\n",
    "app = Flask(__name__)\n",
    "\n",
    "@app.route('/', methods=['GET'])\n",
    "def home():\n",
    "    return \"Welcome to Flask!\"\n",
    "\n",
    "@app.route('/submit', methods=['POST'])\n",
    "def submit():\n",
    "    data = request.form.get('name')\n",
    "    return f\"Received: {data}\"\n",
    "\n",
    "if __name__ == '__main__':\n",
    "    app.run(debug=True)"
   ]
  },
  {
   "cell_type": "code",
   "execution_count": 7,
   "id": "075bdb73",
   "metadata": {},
   "outputs": [],
   "source": [
    "@app.route('/user', methods=['GET', 'POST'])\n",
    "def user():\n",
    "    if request.method == 'POST':\n",
    "        return \"Handling POST request\"\n",
    "    return \"Handling GET request\""
   ]
  },
  {
   "cell_type": "markdown",
   "id": "83526ea7",
   "metadata": {},
   "source": [
    "### 4. How do you render HTML templates in Flask?"
   ]
  },
  {
   "cell_type": "code",
   "execution_count": 8,
   "id": "50b97d73",
   "metadata": {},
   "outputs": [
    {
     "ename": "SyntaxError",
     "evalue": "invalid syntax (3517622918.py, line 1)",
     "output_type": "error",
     "traceback": [
      "\u001b[0;36m  File \u001b[0;32m\"/tmp/ipykernel_7262/3517622918.py\"\u001b[0;36m, line \u001b[0;32m1\u001b[0m\n\u001b[0;31m    <!DOCTYPE html>\u001b[0m\n\u001b[0m    ^\u001b[0m\n\u001b[0;31mSyntaxError\u001b[0m\u001b[0;31m:\u001b[0m invalid syntax\n"
     ]
    }
   ],
   "source": [
    "<!DOCTYPE html>\n",
    "<html>\n",
    "<head>\n",
    "    <title>Flask Template Example</title>\n",
    "</head>\n",
    "<body>\n",
    "    <h1>Welcome to Flask!</h1>\n",
    "    <p>Hello, {{ name }}!</p>\n",
    "</body>\n",
    "</html>\n"
   ]
  },
  {
   "cell_type": "code",
   "execution_count": 9,
   "id": "24774064",
   "metadata": {},
   "outputs": [
    {
     "name": "stdout",
     "output_type": "stream",
     "text": [
      " * Serving Flask app '__main__'\n",
      " * Debug mode: on\n"
     ]
    },
    {
     "name": "stderr",
     "output_type": "stream",
     "text": [
      "WARNING: This is a development server. Do not use it in a production deployment. Use a production WSGI server instead.\n",
      " * Running on http://127.0.0.1:5000\n",
      "Press CTRL+C to quit\n",
      " * Restarting with watchdog (inotify)\n",
      "Traceback (most recent call last):\n",
      "  File \"/home/swagata/anaconda3/envs/brains/lib/python3.7/site-packages/ipykernel_launcher.py\", line 17, in <module>\n",
      "    app.launch_new_instance()\n",
      "  File \"/home/swagata/anaconda3/envs/brains/lib/python3.7/site-packages/traitlets/config/application.py\", line 991, in launch_instance\n",
      "    app.initialize(argv)\n",
      "  File \"/home/swagata/anaconda3/envs/brains/lib/python3.7/site-packages/traitlets/config/application.py\", line 113, in inner\n",
      "    return method(app, *args, **kwargs)\n",
      "  File \"/home/swagata/anaconda3/envs/brains/lib/python3.7/site-packages/ipykernel/kernelapp.py\", line 666, in initialize\n",
      "    self.init_sockets()\n",
      "  File \"/home/swagata/anaconda3/envs/brains/lib/python3.7/site-packages/ipykernel/kernelapp.py\", line 307, in init_sockets\n",
      "    self.shell_port = self._bind_socket(self.shell_socket, self.shell_port)\n",
      "  File \"/home/swagata/anaconda3/envs/brains/lib/python3.7/site-packages/ipykernel/kernelapp.py\", line 244, in _bind_socket\n",
      "    return self._try_bind_socket(s, port)\n",
      "  File \"/home/swagata/anaconda3/envs/brains/lib/python3.7/site-packages/ipykernel/kernelapp.py\", line 220, in _try_bind_socket\n",
      "    s.bind(\"tcp://%s:%i\" % (self.ip, port))\n",
      "  File \"/home/swagata/anaconda3/envs/brains/lib/python3.7/site-packages/zmq/sugar/socket.py\", line 229, in bind\n",
      "    super().bind(addr)\n",
      "  File \"zmq/backend/cython/socket.pyx\", line 562, in zmq.backend.cython.socket.Socket.bind\n",
      "  File \"zmq/backend/cython/checkrc.pxd\", line 28, in zmq.backend.cython.checkrc._check_rc\n",
      "zmq.error.ZMQError: Address already in use\n"
     ]
    },
    {
     "ename": "SystemExit",
     "evalue": "1",
     "output_type": "error",
     "traceback": [
      "An exception has occurred, use %tb to see the full traceback.\n",
      "\u001b[0;31mSystemExit\u001b[0m\u001b[0;31m:\u001b[0m 1\n"
     ]
    }
   ],
   "source": [
    "from flask import Flask, render_template\n",
    "\n",
    "app = Flask(__name__)\n",
    "\n",
    "@app.route('/')\n",
    "def home():\n",
    "    return render_template('index.html', name=\"Swagata\")\n",
    "\n",
    "if __name__ == '__main__':\n",
    "    app.run(debug=True)"
   ]
  },
  {
   "cell_type": "markdown",
   "id": "e6496fea",
   "metadata": {},
   "source": [
    "### 5. How can you generate URLs for routes in Flask using url_for?"
   ]
  },
  {
   "cell_type": "code",
   "execution_count": 10,
   "id": "deaa1de3",
   "metadata": {},
   "outputs": [
    {
     "name": "stdout",
     "output_type": "stream",
     "text": [
      "/\n",
      "/about\n",
      " * Serving Flask app '__main__'\n",
      " * Debug mode: on\n"
     ]
    },
    {
     "name": "stderr",
     "output_type": "stream",
     "text": [
      "WARNING: This is a development server. Do not use it in a production deployment. Use a production WSGI server instead.\n",
      " * Running on http://127.0.0.1:5000\n",
      "Press CTRL+C to quit\n",
      " * Restarting with watchdog (inotify)\n",
      "Traceback (most recent call last):\n",
      "  File \"/home/swagata/anaconda3/envs/brains/lib/python3.7/site-packages/ipykernel_launcher.py\", line 17, in <module>\n",
      "    app.launch_new_instance()\n",
      "  File \"/home/swagata/anaconda3/envs/brains/lib/python3.7/site-packages/traitlets/config/application.py\", line 991, in launch_instance\n",
      "    app.initialize(argv)\n",
      "  File \"/home/swagata/anaconda3/envs/brains/lib/python3.7/site-packages/traitlets/config/application.py\", line 113, in inner\n",
      "    return method(app, *args, **kwargs)\n",
      "  File \"/home/swagata/anaconda3/envs/brains/lib/python3.7/site-packages/ipykernel/kernelapp.py\", line 666, in initialize\n",
      "    self.init_sockets()\n",
      "  File \"/home/swagata/anaconda3/envs/brains/lib/python3.7/site-packages/ipykernel/kernelapp.py\", line 307, in init_sockets\n",
      "    self.shell_port = self._bind_socket(self.shell_socket, self.shell_port)\n",
      "  File \"/home/swagata/anaconda3/envs/brains/lib/python3.7/site-packages/ipykernel/kernelapp.py\", line 244, in _bind_socket\n",
      "    return self._try_bind_socket(s, port)\n",
      "  File \"/home/swagata/anaconda3/envs/brains/lib/python3.7/site-packages/ipykernel/kernelapp.py\", line 220, in _try_bind_socket\n",
      "    s.bind(\"tcp://%s:%i\" % (self.ip, port))\n",
      "  File \"/home/swagata/anaconda3/envs/brains/lib/python3.7/site-packages/zmq/sugar/socket.py\", line 229, in bind\n",
      "    super().bind(addr)\n",
      "  File \"zmq/backend/cython/socket.pyx\", line 562, in zmq.backend.cython.socket.Socket.bind\n",
      "  File \"zmq/backend/cython/checkrc.pxd\", line 28, in zmq.backend.cython.checkrc._check_rc\n",
      "zmq.error.ZMQError: Address already in use\n"
     ]
    },
    {
     "ename": "SystemExit",
     "evalue": "1",
     "output_type": "error",
     "traceback": [
      "An exception has occurred, use %tb to see the full traceback.\n",
      "\u001b[0;31mSystemExit\u001b[0m\u001b[0;31m:\u001b[0m 1\n"
     ]
    }
   ],
   "source": [
    "from flask import Flask, url_for\n",
    "\n",
    "app = Flask(__name__)\n",
    "\n",
    "@app.route('/')\n",
    "def home():\n",
    "    return \"Welcome to Flask!\"\n",
    "\n",
    "@app.route('/about')\n",
    "def about():\n",
    "    return \"This is the About page\"\n",
    "\n",
    "if __name__ == '__main__':\n",
    "    with app.test_request_context():\n",
    "        print(url_for('home'))   # Output: '/'\n",
    "        print(url_for('about'))  # Output: '/about'\n",
    "    \n",
    "    app.run(debug=True)"
   ]
  },
  {
   "cell_type": "markdown",
   "id": "a7be1ae0",
   "metadata": {},
   "source": [
    "### 6. How do you handle forms in Flask?"
   ]
  },
  {
   "cell_type": "code",
   "execution_count": null,
   "id": "5bc028f2",
   "metadata": {},
   "outputs": [],
   "source": [
    "<!DOCTYPE html>\n",
    "<html>\n",
    "<head>\n",
    "    <title>Flask Form</title>\n",
    "</head>\n",
    "<body>\n",
    "    <h2>Submit Your Name</h2>\n",
    "    <form method=\"POST\" action=\"{{ url_for('submit') }}\">\n",
    "        <label for=\"name\">Name:</label>\n",
    "        <input type=\"text\" id=\"name\" name=\"name\">\n",
    "        <button type=\"submit\">Submit</button>\n",
    "    </form>\n",
    "</body>\n",
    "</html>"
   ]
  },
  {
   "cell_type": "code",
   "execution_count": null,
   "id": "ec38fdcd",
   "metadata": {},
   "outputs": [],
   "source": [
    "from flask import Flask, render_template, request\n",
    "\n",
    "app = Flask(__name__)\n",
    "\n",
    "@app.route('/')\n",
    "def form():\n",
    "    return render_template('form.html')\n",
    "\n",
    "@app.route('/submit', methods=['POST'])\n",
    "def submit():\n",
    "    name = request.form.get('name')  # Retrieve form input\n",
    "    return f\"Hello, {name}!\"\n",
    "\n",
    "if __name__ == '__main__':\n",
    "    app.run(debug=True)\n"
   ]
  },
  {
   "cell_type": "markdown",
   "id": "36a50295",
   "metadata": {},
   "source": [
    "### 7. How can you validate form data in Flask?"
   ]
  },
  {
   "cell_type": "code",
   "execution_count": null,
   "id": "e2c46d8a",
   "metadata": {},
   "outputs": [],
   "source": [
    "from flask import Flask, render_template, request\n",
    "\n",
    "app = Flask(__name__)\n",
    "\n",
    "@app.route('/', methods=['GET', 'POST'])\n",
    "def form():\n",
    "    error = None\n",
    "    if request.method == 'POST':\n",
    "        name = request.form.get('name')\n",
    "        if not name:\n",
    "            error = \"Name is required!\"\n",
    "        else:\n",
    "            return f\"Hello, {name}!\"\n",
    "    \n",
    "    return render_template('form.html', error=error)\n",
    "\n",
    "if __name__ == '__main__':\n",
    "    app.run(debug=True)\n"
   ]
  },
  {
   "cell_type": "code",
   "execution_count": null,
   "id": "43ad3a41",
   "metadata": {},
   "outputs": [],
   "source": [
    "<!DOCTYPE html>\n",
    "<html>\n",
    "<head>\n",
    "    <title>Flask Form Validation</title>\n",
    "</head>\n",
    "<body>\n",
    "    <h2>Enter Your Name</h2>\n",
    "    {% if error %}\n",
    "        <p style=\"color: red;\">{{ error }}</p>\n",
    "    {% endif %}\n",
    "    <form method=\"POST\">\n",
    "        <input type=\"text\" name=\"name\" placeholder=\"Enter name\">\n",
    "        <button type=\"submit\">Submit</button>\n",
    "    </form>\n",
    "</body>\n",
    "</html>"
   ]
  },
  {
   "cell_type": "markdown",
   "id": "a2db23a3",
   "metadata": {},
   "source": [
    "### 8. How do you manage sessions in Flask?"
   ]
  },
  {
   "cell_type": "code",
   "execution_count": 11,
   "id": "79c1699e",
   "metadata": {
    "scrolled": true
   },
   "outputs": [
    {
     "name": "stdout",
     "output_type": "stream",
     "text": [
      " * Serving Flask app '__main__'\n",
      " * Debug mode: on\n"
     ]
    },
    {
     "name": "stderr",
     "output_type": "stream",
     "text": [
      "WARNING: This is a development server. Do not use it in a production deployment. Use a production WSGI server instead.\n",
      " * Running on http://127.0.0.1:5000\n",
      "Press CTRL+C to quit\n",
      " * Restarting with watchdog (inotify)\n",
      "Traceback (most recent call last):\n",
      "  File \"/home/swagata/anaconda3/envs/brains/lib/python3.7/site-packages/ipykernel_launcher.py\", line 17, in <module>\n",
      "    app.launch_new_instance()\n",
      "  File \"/home/swagata/anaconda3/envs/brains/lib/python3.7/site-packages/traitlets/config/application.py\", line 991, in launch_instance\n",
      "    app.initialize(argv)\n",
      "  File \"/home/swagata/anaconda3/envs/brains/lib/python3.7/site-packages/traitlets/config/application.py\", line 113, in inner\n",
      "    return method(app, *args, **kwargs)\n",
      "  File \"/home/swagata/anaconda3/envs/brains/lib/python3.7/site-packages/ipykernel/kernelapp.py\", line 666, in initialize\n",
      "    self.init_sockets()\n",
      "  File \"/home/swagata/anaconda3/envs/brains/lib/python3.7/site-packages/ipykernel/kernelapp.py\", line 307, in init_sockets\n",
      "    self.shell_port = self._bind_socket(self.shell_socket, self.shell_port)\n",
      "  File \"/home/swagata/anaconda3/envs/brains/lib/python3.7/site-packages/ipykernel/kernelapp.py\", line 244, in _bind_socket\n",
      "    return self._try_bind_socket(s, port)\n",
      "  File \"/home/swagata/anaconda3/envs/brains/lib/python3.7/site-packages/ipykernel/kernelapp.py\", line 220, in _try_bind_socket\n",
      "    s.bind(\"tcp://%s:%i\" % (self.ip, port))\n",
      "  File \"/home/swagata/anaconda3/envs/brains/lib/python3.7/site-packages/zmq/sugar/socket.py\", line 229, in bind\n",
      "    super().bind(addr)\n",
      "  File \"zmq/backend/cython/socket.pyx\", line 562, in zmq.backend.cython.socket.Socket.bind\n",
      "  File \"zmq/backend/cython/checkrc.pxd\", line 28, in zmq.backend.cython.checkrc._check_rc\n",
      "zmq.error.ZMQError: Address already in use\n"
     ]
    },
    {
     "ename": "SystemExit",
     "evalue": "1",
     "output_type": "error",
     "traceback": [
      "An exception has occurred, use %tb to see the full traceback.\n",
      "\u001b[0;31mSystemExit\u001b[0m\u001b[0;31m:\u001b[0m 1\n"
     ]
    }
   ],
   "source": [
    "@app.route('/', methods=['GET', 'POST'])\n",
    "def login():\n",
    "    if request.method == 'POST':\n",
    "        session['username'] = request.form['username']  # Store data in session\n",
    "        return redirect(url_for('dashboard'))\n",
    "    return render_template('login.html')\n",
    "\n",
    "@app.route('/dashboard')\n",
    "def dashboard():\n",
    "    if 'username' in session:  # Check if session exists\n",
    "        return f\"Welcome, {session['username']}! <a href='/logout'>Logout</a>\"\n",
    "    return redirect(url_for('login'))\n",
    "\n",
    "@app.route('/logout')\n",
    "def logout():\n",
    "    session.pop('username', None)  # Remove user from session\n",
    "    return redirect(url_for('login'))\n",
    "\n",
    "if __name__ == '__main__':\n",
    "    app.run(debug=True)\n"
   ]
  },
  {
   "cell_type": "markdown",
   "id": "67d38525",
   "metadata": {},
   "source": [
    "### 9. How do you redirect to a different route in Flask?"
   ]
  },
  {
   "cell_type": "code",
   "execution_count": null,
   "id": "0ef307f6",
   "metadata": {},
   "outputs": [],
   "source": [
    "from flask import Flask, redirect, url_for\n",
    "\n",
    "app = Flask(__name__)\n",
    "\n",
    "@app.route('/')\n",
    "def home():\n",
    "    return \"Welcome to the Home Page!\"\n",
    "\n",
    "@app.route('/redirect-me')\n",
    "def redirect_me():\n",
    "    return redirect(url_for('home'))  # Redirects to the home route\n",
    "\n",
    "if __name__ == '__main__':\n",
    "    app.run(debug=True)\n"
   ]
  },
  {
   "cell_type": "markdown",
   "id": "af87fa98",
   "metadata": {},
   "source": [
    "### 10. How do you handle errors in Flask (e.g., 404)?"
   ]
  },
  {
   "cell_type": "code",
   "execution_count": null,
   "id": "0ad542e3",
   "metadata": {},
   "outputs": [],
   "source": [
    "from flask import Flask, render_template\n",
    "\n",
    "app = Flask(__name__)\n",
    "\n",
    "@app.route('/')\n",
    "def home():\n",
    "    return \"Welcome to the Home Page!\"\n",
    "\n",
    "# Custom 404 error handler\n",
    "@app.errorhandler(404)\n",
    "def page_not_found(error):\n",
    "    return render_template('404.html'), 404  # Render a custom template\n",
    "\n",
    "if __name__ == '__main__':\n",
    "    app.run(debug=True)\n"
   ]
  },
  {
   "cell_type": "markdown",
   "id": "c7dd848d",
   "metadata": {},
   "source": [
    "### 11. How do you structure a Flask app using Blueprints?"
   ]
  },
  {
   "cell_type": "code",
   "execution_count": 12,
   "id": "d7ee3ac8",
   "metadata": {},
   "outputs": [],
   "source": [
    "from flask import Blueprint, render_template\n",
    "\n",
    "auth_bp = Blueprint('auth', __name__, template_folder='templates')\n",
    "\n",
    "@auth_bp.route('/login')\n",
    "def login():\n",
    "    return render_template('login.html')\n"
   ]
  },
  {
   "cell_type": "code",
   "execution_count": 13,
   "id": "b307a7bc",
   "metadata": {},
   "outputs": [
    {
     "ename": "ModuleNotFoundError",
     "evalue": "No module named 'blueprints'",
     "output_type": "error",
     "traceback": [
      "\u001b[0;31m---------------------------------------------------------------------------\u001b[0m",
      "\u001b[0;31mModuleNotFoundError\u001b[0m                       Traceback (most recent call last)",
      "\u001b[0;32m/tmp/ipykernel_7262/1252458462.py\u001b[0m in \u001b[0;36m<module>\u001b[0;34m\u001b[0m\n\u001b[1;32m      1\u001b[0m \u001b[0;32mfrom\u001b[0m \u001b[0mflask\u001b[0m \u001b[0;32mimport\u001b[0m \u001b[0mFlask\u001b[0m\u001b[0;34m\u001b[0m\u001b[0;34m\u001b[0m\u001b[0m\n\u001b[1;32m      2\u001b[0m \u001b[0;34m\u001b[0m\u001b[0m\n\u001b[0;32m----> 3\u001b[0;31m \u001b[0;32mfrom\u001b[0m \u001b[0mblueprints\u001b[0m\u001b[0;34m.\u001b[0m\u001b[0mauth\u001b[0m \u001b[0;32mimport\u001b[0m \u001b[0mauth_bp\u001b[0m\u001b[0;34m\u001b[0m\u001b[0;34m\u001b[0m\u001b[0m\n\u001b[0m\u001b[1;32m      4\u001b[0m \u001b[0;34m\u001b[0m\u001b[0m\n\u001b[1;32m      5\u001b[0m \u001b[0mapp\u001b[0m \u001b[0;34m=\u001b[0m \u001b[0mFlask\u001b[0m\u001b[0;34m(\u001b[0m\u001b[0m__name__\u001b[0m\u001b[0;34m)\u001b[0m\u001b[0;34m\u001b[0m\u001b[0;34m\u001b[0m\u001b[0m\n",
      "\u001b[0;31mModuleNotFoundError\u001b[0m: No module named 'blueprints'"
     ]
    }
   ],
   "source": [
    "from flask import Flask\n",
    "\n",
    "from blueprints.auth import auth_bp\n",
    "\n",
    "app = Flask(__name__)\n",
    "\n",
    "# Register Blueprints\n",
    "app.register_blueprint(home_bp)\n",
    "app.register_blueprint(auth_bp, url_prefix='/auth')  # Prefix all auth routes with /auth\n",
    "\n",
    "if __name__ == '__main__':\n",
    "    app.run(debug=True)\n"
   ]
  },
  {
   "cell_type": "markdown",
   "id": "a6de5b80",
   "metadata": {},
   "source": [
    "### 12. How do you define a custom Jinja filter in Flask?"
   ]
  },
  {
   "cell_type": "code",
   "execution_count": 15,
   "id": "f491327c",
   "metadata": {},
   "outputs": [
    {
     "name": "stdout",
     "output_type": "stream",
     "text": [
      " * Serving Flask app '__main__'\n",
      " * Debug mode: on\n"
     ]
    },
    {
     "name": "stderr",
     "output_type": "stream",
     "text": [
      "WARNING: This is a development server. Do not use it in a production deployment. Use a production WSGI server instead.\n",
      " * Running on http://127.0.0.1:5000\n",
      "Press CTRL+C to quit\n",
      " * Restarting with watchdog (inotify)\n",
      "Traceback (most recent call last):\n",
      "  File \"/home/swagata/anaconda3/envs/brains/lib/python3.7/site-packages/ipykernel_launcher.py\", line 17, in <module>\n",
      "    app.launch_new_instance()\n",
      "  File \"/home/swagata/anaconda3/envs/brains/lib/python3.7/site-packages/traitlets/config/application.py\", line 991, in launch_instance\n",
      "    app.initialize(argv)\n",
      "  File \"/home/swagata/anaconda3/envs/brains/lib/python3.7/site-packages/traitlets/config/application.py\", line 113, in inner\n",
      "    return method(app, *args, **kwargs)\n",
      "  File \"/home/swagata/anaconda3/envs/brains/lib/python3.7/site-packages/ipykernel/kernelapp.py\", line 666, in initialize\n",
      "    self.init_sockets()\n",
      "  File \"/home/swagata/anaconda3/envs/brains/lib/python3.7/site-packages/ipykernel/kernelapp.py\", line 307, in init_sockets\n",
      "    self.shell_port = self._bind_socket(self.shell_socket, self.shell_port)\n",
      "  File \"/home/swagata/anaconda3/envs/brains/lib/python3.7/site-packages/ipykernel/kernelapp.py\", line 244, in _bind_socket\n",
      "    return self._try_bind_socket(s, port)\n",
      "  File \"/home/swagata/anaconda3/envs/brains/lib/python3.7/site-packages/ipykernel/kernelapp.py\", line 220, in _try_bind_socket\n",
      "    s.bind(\"tcp://%s:%i\" % (self.ip, port))\n",
      "  File \"/home/swagata/anaconda3/envs/brains/lib/python3.7/site-packages/zmq/sugar/socket.py\", line 229, in bind\n",
      "    super().bind(addr)\n",
      "  File \"zmq/backend/cython/socket.pyx\", line 562, in zmq.backend.cython.socket.Socket.bind\n",
      "  File \"zmq/backend/cython/checkrc.pxd\", line 28, in zmq.backend.cython.checkrc._check_rc\n",
      "zmq.error.ZMQError: Address already in use\n"
     ]
    },
    {
     "ename": "SystemExit",
     "evalue": "1",
     "output_type": "error",
     "traceback": [
      "An exception has occurred, use %tb to see the full traceback.\n",
      "\u001b[0;31mSystemExit\u001b[0m\u001b[0;31m:\u001b[0m 1\n"
     ]
    }
   ],
   "source": [
    "from flask import Flask, render_template\n",
    "\n",
    "app = Flask(__name__)\n",
    "\n",
    "# Define a custom Jinja filter\n",
    "def reverse_string(s):\n",
    "    return s[::-1]\n",
    "\n",
    "# Register the filter with Flask\n",
    "app.jinja_env.filters['reverse'] = reverse_string\n",
    "\n",
    "@app.route('/')\n",
    "def home():\n",
    "    return render_template('index.html', name=\"Flask\")\n",
    "\n",
    "if __name__ == '__main__':\n",
    "    app.run(debug=True)\n"
   ]
  },
  {
   "cell_type": "markdown",
   "id": "b1dba2b8",
   "metadata": {},
   "source": [
    "### 13. How can you redirect with query parameters in Flask?"
   ]
  },
  {
   "cell_type": "code",
   "execution_count": 16,
   "id": "bfb6e847",
   "metadata": {},
   "outputs": [
    {
     "name": "stdout",
     "output_type": "stream",
     "text": [
      " * Serving Flask app '__main__'\n",
      " * Debug mode: on\n"
     ]
    },
    {
     "name": "stderr",
     "output_type": "stream",
     "text": [
      "WARNING: This is a development server. Do not use it in a production deployment. Use a production WSGI server instead.\n",
      " * Running on http://127.0.0.1:5000\n",
      "Press CTRL+C to quit\n",
      " * Restarting with watchdog (inotify)\n",
      "Traceback (most recent call last):\n",
      "  File \"/home/swagata/anaconda3/envs/brains/lib/python3.7/site-packages/ipykernel_launcher.py\", line 17, in <module>\n",
      "    app.launch_new_instance()\n",
      "  File \"/home/swagata/anaconda3/envs/brains/lib/python3.7/site-packages/traitlets/config/application.py\", line 991, in launch_instance\n",
      "    app.initialize(argv)\n",
      "  File \"/home/swagata/anaconda3/envs/brains/lib/python3.7/site-packages/traitlets/config/application.py\", line 113, in inner\n",
      "    return method(app, *args, **kwargs)\n",
      "  File \"/home/swagata/anaconda3/envs/brains/lib/python3.7/site-packages/ipykernel/kernelapp.py\", line 666, in initialize\n",
      "    self.init_sockets()\n",
      "  File \"/home/swagata/anaconda3/envs/brains/lib/python3.7/site-packages/ipykernel/kernelapp.py\", line 307, in init_sockets\n",
      "    self.shell_port = self._bind_socket(self.shell_socket, self.shell_port)\n",
      "  File \"/home/swagata/anaconda3/envs/brains/lib/python3.7/site-packages/ipykernel/kernelapp.py\", line 244, in _bind_socket\n",
      "    return self._try_bind_socket(s, port)\n",
      "  File \"/home/swagata/anaconda3/envs/brains/lib/python3.7/site-packages/ipykernel/kernelapp.py\", line 220, in _try_bind_socket\n",
      "    s.bind(\"tcp://%s:%i\" % (self.ip, port))\n",
      "  File \"/home/swagata/anaconda3/envs/brains/lib/python3.7/site-packages/zmq/sugar/socket.py\", line 229, in bind\n",
      "    super().bind(addr)\n",
      "  File \"zmq/backend/cython/socket.pyx\", line 562, in zmq.backend.cython.socket.Socket.bind\n",
      "  File \"zmq/backend/cython/checkrc.pxd\", line 28, in zmq.backend.cython.checkrc._check_rc\n",
      "zmq.error.ZMQError: Address already in use\n"
     ]
    },
    {
     "ename": "SystemExit",
     "evalue": "1",
     "output_type": "error",
     "traceback": [
      "An exception has occurred, use %tb to see the full traceback.\n",
      "\u001b[0;31mSystemExit\u001b[0m\u001b[0;31m:\u001b[0m 1\n"
     ]
    }
   ],
   "source": [
    "from flask import Flask, redirect, url_for, request\n",
    "\n",
    "app = Flask(__name__)\n",
    "\n",
    "@app.route('/')\n",
    "def home():\n",
    "    return \"Welcome to the Home Page!\"\n",
    "\n",
    "@app.route('/redirect-me')\n",
    "def redirect_me():\n",
    "    return redirect(url_for('destination', name=\"Swagata\", age=33))\n",
    "\n",
    "@app.route('/destination')\n",
    "def destination():\n",
    "    name = request.args.get('name')\n",
    "    age = request.args.get('age')\n",
    "    return f\"Redirected! Name: {name}, Age: {age}\"\n",
    "\n",
    "if __name__ == '__main__':\n",
    "    app.run(debug=True)\n"
   ]
  },
  {
   "cell_type": "markdown",
   "id": "6542e5e1",
   "metadata": {},
   "source": [
    "### 14. How do you return JSON responses in Flask?"
   ]
  },
  {
   "cell_type": "code",
   "execution_count": 17,
   "id": "2e7abd2b",
   "metadata": {},
   "outputs": [
    {
     "name": "stdout",
     "output_type": "stream",
     "text": [
      " * Serving Flask app '__main__'\n",
      " * Debug mode: on\n"
     ]
    },
    {
     "name": "stderr",
     "output_type": "stream",
     "text": [
      "WARNING: This is a development server. Do not use it in a production deployment. Use a production WSGI server instead.\n",
      " * Running on http://127.0.0.1:5000\n",
      "Press CTRL+C to quit\n",
      " * Restarting with watchdog (inotify)\n",
      "Traceback (most recent call last):\n",
      "  File \"/home/swagata/anaconda3/envs/brains/lib/python3.7/site-packages/ipykernel_launcher.py\", line 17, in <module>\n",
      "    app.launch_new_instance()\n",
      "  File \"/home/swagata/anaconda3/envs/brains/lib/python3.7/site-packages/traitlets/config/application.py\", line 991, in launch_instance\n",
      "    app.initialize(argv)\n",
      "  File \"/home/swagata/anaconda3/envs/brains/lib/python3.7/site-packages/traitlets/config/application.py\", line 113, in inner\n",
      "    return method(app, *args, **kwargs)\n",
      "  File \"/home/swagata/anaconda3/envs/brains/lib/python3.7/site-packages/ipykernel/kernelapp.py\", line 666, in initialize\n",
      "    self.init_sockets()\n",
      "  File \"/home/swagata/anaconda3/envs/brains/lib/python3.7/site-packages/ipykernel/kernelapp.py\", line 307, in init_sockets\n",
      "    self.shell_port = self._bind_socket(self.shell_socket, self.shell_port)\n",
      "  File \"/home/swagata/anaconda3/envs/brains/lib/python3.7/site-packages/ipykernel/kernelapp.py\", line 244, in _bind_socket\n",
      "    return self._try_bind_socket(s, port)\n",
      "  File \"/home/swagata/anaconda3/envs/brains/lib/python3.7/site-packages/ipykernel/kernelapp.py\", line 220, in _try_bind_socket\n",
      "    s.bind(\"tcp://%s:%i\" % (self.ip, port))\n",
      "  File \"/home/swagata/anaconda3/envs/brains/lib/python3.7/site-packages/zmq/sugar/socket.py\", line 229, in bind\n",
      "    super().bind(addr)\n",
      "  File \"zmq/backend/cython/socket.pyx\", line 562, in zmq.backend.cython.socket.Socket.bind\n",
      "  File \"zmq/backend/cython/checkrc.pxd\", line 28, in zmq.backend.cython.checkrc._check_rc\n",
      "zmq.error.ZMQError: Address already in use\n"
     ]
    },
    {
     "ename": "SystemExit",
     "evalue": "1",
     "output_type": "error",
     "traceback": [
      "An exception has occurred, use %tb to see the full traceback.\n",
      "\u001b[0;31mSystemExit\u001b[0m\u001b[0;31m:\u001b[0m 1\n"
     ]
    }
   ],
   "source": [
    "from flask import Flask, jsonify\n",
    "\n",
    "app = Flask(__name__)\n",
    "\n",
    "@app.route('/json')\n",
    "def json_response():\n",
    "    data = {\"message\": \"Hello, Flask!\", \"status\": \"success\"}\n",
    "    return jsonify(data)  # Converts dictionary to JSON response\n",
    "\n",
    "if __name__ == '__main__':\n",
    "    app.run(debug=True)\n"
   ]
  },
  {
   "cell_type": "code",
   "execution_count": null,
   "id": "17d15e06",
   "metadata": {},
   "outputs": [],
   "source": []
  }
 ],
 "metadata": {
  "kernelspec": {
   "display_name": "Python 3 (ipykernel)",
   "language": "python",
   "name": "python3"
  },
  "language_info": {
   "codemirror_mode": {
    "name": "ipython",
    "version": 3
   },
   "file_extension": ".py",
   "mimetype": "text/x-python",
   "name": "python",
   "nbconvert_exporter": "python",
   "pygments_lexer": "ipython3",
   "version": "3.7.16"
  }
 },
 "nbformat": 4,
 "nbformat_minor": 5
}
